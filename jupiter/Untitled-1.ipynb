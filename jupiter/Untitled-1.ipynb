{
 "cells": [
  {
   "cell_type": "markdown",
   "metadata": {},
   "source": [
    "Revision of Python"
   ]
  },
  {
   "cell_type": "code",
   "execution_count": 9,
   "metadata": {},
   "outputs": [
    {
     "data": {
      "text/plain": [
       "120"
      ]
     },
     "execution_count": 9,
     "metadata": {},
     "output_type": "execute_result"
    }
   ],
   "source": [
    "# Print the factorial of the number\n",
    "def fact(number):\n",
    "    counter=1\n",
    "    for i in range(1,number+1):\n",
    "        counter*=i\n",
    "    return counter\n",
    "fact(5)"
   ]
  },
  {
   "cell_type": "code",
   "execution_count": 13,
   "metadata": {},
   "outputs": [
    {
     "name": "stdout",
     "output_type": "stream",
     "text": [
      "1\n",
      "4\n"
     ]
    }
   ],
   "source": [
    "# Print the duplicate elements of the array\n",
    "list=[1,1,2,3,4,4,5]\n",
    "for i in set(list):# i forgot about the duplicate and how to solve it and the solution is using set cause it wont repeat the number\n",
    "    if list.count(i)>1:\n",
    "        print(i)"
   ]
  },
  {
   "cell_type": "code",
   "execution_count": 14,
   "metadata": {},
   "outputs": [
    {
     "data": {
      "text/plain": [
       "153"
      ]
     },
     "execution_count": 14,
     "metadata": {},
     "output_type": "execute_result"
    }
   ],
   "source": [
    "# Sum of the factorial\n",
    "def sumfact(number):\n",
    "    facto=1\n",
    "    counter=0\n",
    "    for i in range(1,number+1):\n",
    "        facto*=i\n",
    "        counter+=facto\n",
    "    return counter\n",
    "sumfact(5)"
   ]
  },
  {
   "cell_type": "code",
   "execution_count": 32,
   "metadata": {},
   "outputs": [
    {
     "name": "stdout",
     "output_type": "stream",
     "text": [
      "length equals 6\n",
      "6\n",
      "5\n",
      "4\n",
      "3\n",
      "2\n",
      "1\n"
     ]
    }
   ],
   "source": [
    "# Print reversed array\n",
    "z=[1,2,3,4,5,6]\n",
    "length=len(z)\n",
    "print(\"length equals\",length)\n",
    "for i in range(length-1,-1,-1):\n",
    "    print(z[i])"
   ]
  },
  {
   "cell_type": "code",
   "execution_count": 38,
   "metadata": {},
   "outputs": [
    {
     "name": "stdout",
     "output_type": "stream",
     "text": [
      "7\n"
     ]
    }
   ],
   "source": [
    "# Max element of the array\n",
    "z=[1,2,3,4,5,7]\n",
    "print(max(z))"
   ]
  },
  {
   "cell_type": "code",
   "execution_count": 39,
   "metadata": {},
   "outputs": [
    {
     "data": {
      "text/plain": [
       "[3, 5, 6, 7, 9, 10]"
      ]
     },
     "execution_count": 39,
     "metadata": {},
     "output_type": "execute_result"
    }
   ],
   "source": [
    "# sort the array\n",
    "z=[7,3,10,9,6,5]\n",
    "sorted(z)"
   ]
  },
  {
   "cell_type": "code",
   "execution_count": 40,
   "metadata": {},
   "outputs": [
    {
     "name": "stdout",
     "output_type": "stream",
     "text": [
      "HelloIm so glad to see you again\n"
     ]
    }
   ],
   "source": [
    "# Remove the punctuations from the string\n",
    "def remove_punctuations(input_string):\n",
    "    punctuation='''!()-[]{};:'\"\\,<>./?@#$%^&*_~'''\n",
    "    nopunc=\"\"\n",
    "    for char in input_string:\n",
    "        if char not in punctuation:\n",
    "            nopunc+=char\n",
    "    return nopunc\n",
    "my_str = \"Hello!!,I'm so glad to see you again.<\"\n",
    "cleaned_str=remove_punctuations(my_str)\n",
    "print(cleaned_str)"
   ]
  },
  {
   "cell_type": "code",
   "execution_count": 46,
   "metadata": {},
   "outputs": [
    {
     "name": "stdout",
     "output_type": "stream",
     "text": [
      "a\n",
      "2\n",
      "c\n",
      "1\n",
      "s\n",
      "1\n",
      "e\n",
      "1\n",
      "d\n",
      "2\n"
     ]
    }
   ],
   "source": [
    "# Find the Frequency of the array\n",
    "z=['a','c','s','d','a','d','e']\n",
    "for char in set(z):\n",
    "        print(char)\n",
    "        print(z.count(char))"
   ]
  },
  {
   "cell_type": "code",
   "execution_count": null,
   "metadata": {},
   "outputs": [
    {
     "ename": "",
     "evalue": "",
     "output_type": "error",
     "traceback": [
      "\u001b[1;31mFailed to start the Kernel. \n",
      "\u001b[1;31mUnable to start Kernel 'Python 3.11.9' due to a timeout waiting for the ports to get used. \n",
      "\u001b[1;31mView Jupyter <a href='command:jupyter.viewOutput'>log</a> for further details."
     ]
    }
   ],
   "source": [
    "# Python code to illustrate split() function\n",
    "with open(\"file.txt\", \"r\") as file:\n",
    "data = file.readlines()\n",
    "for line in data:\n",
    "word = line.split()\n",
    "print (word)"
   ]
  }
 ],
 "metadata": {
  "kernelspec": {
   "display_name": "Python 3",
   "language": "python",
   "name": "python3"
  },
  "language_info": {
   "codemirror_mode": {
    "name": "ipython",
    "version": 3
   },
   "file_extension": ".py",
   "mimetype": "text/x-python",
   "name": "python",
   "nbconvert_exporter": "python",
   "pygments_lexer": "ipython3",
   "version": "3.11.9"
  }
 },
 "nbformat": 4,
 "nbformat_minor": 2
}
