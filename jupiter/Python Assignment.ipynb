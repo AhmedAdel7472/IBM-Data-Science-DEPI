{
 "cells": [
  {
   "cell_type": "markdown",
   "metadata": {},
   "source": [
    "Slide 34 Assignment"
   ]
  },
  {
   "cell_type": "markdown",
   "metadata": {},
   "source": [
    "1st task"
   ]
  },
  {
   "cell_type": "code",
   "execution_count": null,
   "metadata": {},
   "outputs": [],
   "source": [
    "def Factorial(number):\n",
    "    if number==0 or number==1:\n",
    "        return 1\n",
    "    else:\n",
    "        return number*Factorial(number-1)\n",
    "\n",
    "Result=Factorial(5)\n",
    "print(Result)"
   ]
  },
  {
   "cell_type": "markdown",
   "metadata": {},
   "source": [
    "2nd Task"
   ]
  },
  {
   "cell_type": "code",
   "execution_count": null,
   "metadata": {},
   "outputs": [],
   "source": [
    "z=['a','b','c','a']\n",
    "for i in set(z):\n",
    "    if z.count(i)>1:\n",
    "        print(i)"
   ]
  },
  {
   "cell_type": "markdown",
   "metadata": {},
   "source": [
    "3rd Task"
   ]
  },
  {
   "cell_type": "code",
   "execution_count": null,
   "metadata": {},
   "outputs": [],
   "source": [
    "def Factorial1(number):\n",
    "    if number==0 or number==1:\n",
    "        return 1\n",
    "    else:\n",
    "        return number*Factorial(number-1)\n",
    "number=5\n",
    "summation=0\n",
    "for i in range(0,number+1):\n",
    "    summation+=Factorial1(i)\n",
    "print(number)\n",
    "answer=Factorial1(number)\n",
    "print(answer)\n",
    "print(summation)"
   ]
  },
  {
   "cell_type": "markdown",
   "metadata": {},
   "source": [
    "4th Task"
   ]
  },
  {
   "cell_type": "code",
   "execution_count": null,
   "metadata": {},
   "outputs": [],
   "source": [
    "z=[1,2,3,4,5]\n",
    "length=len(z)\n",
    "for i in range(length-1,-1,-1):\n",
    "    print(z[i])"
   ]
  },
  {
   "cell_type": "markdown",
   "metadata": {},
   "source": [
    "5th Task"
   ]
  },
  {
   "cell_type": "markdown",
   "metadata": {},
   "source": [
    "Using Builtin Function"
   ]
  },
  {
   "cell_type": "code",
   "execution_count": null,
   "metadata": {},
   "outputs": [],
   "source": [
    "z=[1,2,3,4,5]\n",
    "print(max(z))"
   ]
  },
  {
   "cell_type": "markdown",
   "metadata": {},
   "source": [
    "Using Loops"
   ]
  },
  {
   "cell_type": "code",
   "execution_count": null,
   "metadata": {},
   "outputs": [],
   "source": [
    "z=[1,2,3,4,5]\n",
    "maxi=-1\n",
    "for i in range(0,len(z)):\n",
    "    if maxi<z[i]:\n",
    "        maxi=z[i]\n",
    "print(maxi)"
   ]
  },
  {
   "cell_type": "markdown",
   "metadata": {},
   "source": [
    "6th Task"
   ]
  },
  {
   "cell_type": "markdown",
   "metadata": {},
   "source": [
    "Using Builtin Function"
   ]
  },
  {
   "cell_type": "code",
   "execution_count": null,
   "metadata": {},
   "outputs": [],
   "source": [
    "z=[9,6,5,7,4,2,10,1,7]\n",
    "sorted(z)"
   ]
  },
  {
   "cell_type": "markdown",
   "metadata": {},
   "source": [
    "7th Task"
   ]
  },
  {
   "cell_type": "code",
   "execution_count": null,
   "metadata": {},
   "outputs": [],
   "source": [
    "def remove_punctuation(input_string):\n",
    "    punctuations = '''!()-[]{};:'\"\\,<>./?@#$%^&*_~'''\n",
    "    no_punct = \"\"\n",
    "    for char in input_string:\n",
    "        if char not in punctuations:\n",
    "            no_punct += char\n",
    "    return no_punct\n",
    "\n",
    "my_str = \"Hello!!,I'm so glad to see you again.<\"\n",
    "cleaned_str = remove_punctuation(my_str)\n",
    "print(cleaned_str) "
   ]
  },
  {
   "cell_type": "markdown",
   "metadata": {},
   "source": [
    "8th Task"
   ]
  },
  {
   "cell_type": "code",
   "execution_count": null,
   "metadata": {},
   "outputs": [],
   "source": [
    "listaya=['a','b','c','d','c','c','a','e','y','t']\n",
    "for i in set(listaya):\n",
    "    print(i)\n",
    "    print(listaya.count(i))"
   ]
  },
  {
   "cell_type": "markdown",
   "metadata": {},
   "source": [
    "Slide 47"
   ]
  },
  {
   "cell_type": "markdown",
   "metadata": {},
   "source": [
    "Task 1"
   ]
  },
  {
   "cell_type": "code",
   "execution_count": null,
   "metadata": {},
   "outputs": [],
   "source": [
    "number=0\n",
    "characters=0\n",
    "words=0\n",
    "spaces=0\n",
    "file=open(\"file.txt\",\"r\")\n",
    "read=file.read()\n",
    "for char in read:\n",
    "    if char.isdigit():#how to convert a number in a txt into int\n",
    "        number+=1\n",
    "    elif char.isalpha():\n",
    "        characters+=1\n",
    "    elif char.isspace():\n",
    "        spaces+=1\n",
    "words=len(read.split())\n",
    "print(\"number=\",number)\n",
    "print(\"charachters=\",characters)    \n",
    "print(\"words=\",words)\n",
    "print(\"spaces\",spaces)\n",
    "file.close()"
   ]
  },
  {
   "cell_type": "markdown",
   "metadata": {},
   "source": [
    "Task 2"
   ]
  },
  {
   "cell_type": "markdown",
   "metadata": {},
   "source": [
    "Couldn't Solve but here is the answer after searching in chatgpt"
   ]
  },
  {
   "cell_type": "code",
   "execution_count": null,
   "metadata": {},
   "outputs": [],
   "source": [
    "with open(\"file.txt\", \"r\") as input_file, open(\"addresses.txt\", \"w\") as output_file:\n",
    "    for line in input_file:\n",
    "        parts = line.rsplit(\":\", 1)\n",
    "        if len(parts) == 2:\n",
    "            address = parts[1].strip()  # Remove leading/trailing spaces\n",
    "            output_file.write(address + \"\\n\")"
   ]
  }
 ],
 "metadata": {
  "kernelspec": {
   "display_name": "Python 3",
   "language": "python",
   "name": "python3"
  },
  "language_info": {
   "name": "python",
   "version": "3.11.9"
  }
 },
 "nbformat": 4,
 "nbformat_minor": 2
}
