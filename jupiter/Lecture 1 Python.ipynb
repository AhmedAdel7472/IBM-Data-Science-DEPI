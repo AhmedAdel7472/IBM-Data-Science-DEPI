{
 "cells": [
  {
   "cell_type": "markdown",
   "metadata": {},
   "source": [
    "Lecture 1 Python"
   ]
  },
  {
   "cell_type": "code",
   "execution_count": null,
   "metadata": {},
   "outputs": [],
   "source": [
    "#data types\n",
    "x={5,6}\n",
    "y=[5,6]\n",
    "#list ordered mutable datatype\n",
    "# dictionary{} unordered key mutable with value data type\n",
    "# set{} unordered immutable value datatype\n",
    "#tuple() immutable ordered datatype\n",
    "type(x)\n",
    "type(y)\n",
    "print(x)"
   ]
  },
  {
   "cell_type": "code",
   "execution_count": 84,
   "metadata": {},
   "outputs": [
    {
     "name": "stdout",
     "output_type": "stream",
     "text": [
      "hello world\n"
     ]
    }
   ],
   "source": [
    "y=\"hello world\"\n",
    "print(y)"
   ]
  },
  {
   "cell_type": "markdown",
   "metadata": {},
   "source": [
    "Arthimatic operations"
   ]
  },
  {
   "cell_type": "code",
   "execution_count": 85,
   "metadata": {},
   "outputs": [
    {
     "name": "stdout",
     "output_type": "stream",
     "text": [
      "6\n",
      "2\n",
      "8\n",
      "2.0\n",
      "2\n",
      "1\n",
      "16\n"
     ]
    }
   ],
   "source": [
    "#addition\n",
    "print(4+2)\n",
    "#subtraction\n",
    "print(4-2)\n",
    "#multiplication\n",
    "print(4*2)\n",
    "#division\n",
    "print(4/2)\n",
    "#floor division\n",
    "print((5//2))\n",
    "#modulus\n",
    "print(5%2)\n",
    "#Exponential\n",
    "print(4**2)"
   ]
  },
  {
   "cell_type": "markdown",
   "metadata": {},
   "source": [
    "Arithmatic operators like x=x+5 like x+=5"
   ]
  },
  {
   "cell_type": "code",
   "execution_count": 86,
   "metadata": {},
   "outputs": [
    {
     "name": "stdout",
     "output_type": "stream",
     "text": [
      "0\n",
      "0.6\n"
     ]
    }
   ],
   "source": [
    "#floor opeartor\n",
    "x=3\n",
    "x//=5\n",
    "print(x)\n",
    "print(3/5)"
   ]
  },
  {
   "cell_type": "markdown",
   "metadata": {},
   "source": [
    "string function input() we can cast it to take integer or float"
   ]
  },
  {
   "cell_type": "code",
   "execution_count": 108,
   "metadata": {},
   "outputs": [
    {
     "name": "stdout",
     "output_type": "stream",
     "text": [
      "30\n"
     ]
    }
   ],
   "source": [
    "x=int(input())\n",
    "y=int(input(\"Enter your Value\"))\n",
    "z=x+y\n",
    "print(z)"
   ]
  },
  {
   "cell_type": "markdown",
   "metadata": {},
   "source": [
    "we have two types of indexing "
   ]
  },
  {
   "cell_type": "code",
   "execution_count": null,
   "metadata": {},
   "outputs": [
    {
     "name": "stdout",
     "output_type": "stream",
     "text": [
      "h\n",
      "h\n"
     ]
    }
   ],
   "source": [
    "#->forward indexing from 0 to n-1\n",
    "print(y[0])\n",
    "#->Reverse Indexing from -n to -1\n",
    "print(y[-11])"
   ]
  },
  {
   "cell_type": "code",
   "execution_count": null,
   "metadata": {},
   "outputs": [
    {
     "data": {
      "text/plain": [
       "0"
      ]
     },
     "execution_count": 62,
     "metadata": {},
     "output_type": "execute_result"
    }
   ],
   "source": [
    "#Slicing list\n",
    "y[0:11:2]"
   ]
  },
  {
   "cell_type": "markdown",
   "metadata": {},
   "source": [
    "Tuples()  ordered unchangeable heterogeneous"
   ]
  },
  {
   "cell_type": "code",
   "execution_count": 98,
   "metadata": {},
   "outputs": [
    {
     "data": {
      "text/plain": [
       "(10, 20, 'ahmed', 10)"
      ]
     },
     "execution_count": 98,
     "metadata": {},
     "output_type": "execute_result"
    }
   ],
   "source": [
    "z=(10,20,\"ahmed\",10)\n",
    "z.count(10) #count how many times this value appeared in the tuple\n",
    "z.index(10) #show the index of the value\n",
    "# we can also slice the tuple\n",
    "z[0:4:1]"
   ]
  },
  {
   "cell_type": "markdown",
   "metadata": {},
   "source": [
    "Dictionary {Key:value,Key:value,....} unordered,Mutable,heterogeneous,unique key"
   ]
  },
  {
   "cell_type": "code",
   "execution_count": 107,
   "metadata": {},
   "outputs": [
    {
     "data": {
      "text/plain": [
       "dict_items([('Ahmed Adel', 742372), ('Mohammed Hassan', 2072022013)])"
      ]
     },
     "execution_count": 107,
     "metadata": {},
     "output_type": "execute_result"
    }
   ],
   "source": [
    "di={\"Ahmed Adel\":742372,\"Mohammed Hassan\":2072022013}\n",
    "type(di)\n",
    "#show the values\n",
    "di.values()\n",
    "#show the keys\n",
    "di.keys()\n",
    "#show the key+value\n",
    "di.items()\n",
    "#update() is like add , pop() is like delete last item & pop(key) delete a specific key"
   ]
  },
  {
   "cell_type": "markdown",
   "metadata": {},
   "source": [
    "Loops Notes"
   ]
  },
  {
   "cell_type": "markdown",
   "metadata": {},
   "source": [
    "Break:- will stop the loop & won't enter else statement in the loop"
   ]
  },
  {
   "cell_type": "markdown",
   "metadata": {},
   "source": [
    "If the loop finished without any break statement till the end of the loop\n",
    "then, it will enter the else statement"
   ]
  },
  {
   "cell_type": "markdown",
   "metadata": {},
   "source": [
    "1st Assignment "
   ]
  },
  {
   "cell_type": "markdown",
   "metadata": {},
   "source": [
    "Task 1 Find Factorial of a number"
   ]
  },
  {
   "cell_type": "markdown",
   "metadata": {},
   "source": [
    "Using Recursion"
   ]
  },
  {
   "cell_type": "code",
   "execution_count": 111,
   "metadata": {},
   "outputs": [
    {
     "name": "stdout",
     "output_type": "stream",
     "text": [
      "120\n"
     ]
    }
   ],
   "source": [
    "def Factorial(number):\n",
    "    if number==0 or number==1:\n",
    "        return 1\n",
    "    else:\n",
    "        return number*Factorial(number-1)\n",
    "\n",
    "Result=Factorial(5)\n",
    "print(Result)"
   ]
  },
  {
   "cell_type": "markdown",
   "metadata": {},
   "source": [
    "Using Loops"
   ]
  },
  {
   "cell_type": "code",
   "execution_count": 127,
   "metadata": {},
   "outputs": [
    {
     "name": "stdout",
     "output_type": "stream",
     "text": [
      "24\n"
     ]
    }
   ],
   "source": [
    "Result=1\n",
    "Number=int(input())\n",
    "for i in range(Number,0,-1):\n",
    "    if i==0 or i==1:\n",
    "        Result*=1\n",
    "    else:\n",
    "        Result*=i\n",
    "\n",
    "print(Result)            "
   ]
  },
  {
   "cell_type": "markdown",
   "metadata": {},
   "source": [
    "Task 2 print duplicate elements in an array"
   ]
  },
  {
   "cell_type": "code",
   "execution_count": 150,
   "metadata": {},
   "outputs": [
    {
     "name": "stdout",
     "output_type": "stream",
     "text": [
      "a\n"
     ]
    }
   ],
   "source": [
    "z=['a','b','c','a']\n",
    "for i in set(z):\n",
    "    if z.count(i)>1:\n",
    "        print(i)"
   ]
  },
  {
   "cell_type": "markdown",
   "metadata": {},
   "source": [
    "Task 3 find the summation of the factorial"
   ]
  },
  {
   "cell_type": "code",
   "execution_count": 154,
   "metadata": {},
   "outputs": [
    {
     "name": "stdout",
     "output_type": "stream",
     "text": [
      "5\n",
      "120\n",
      "154\n"
     ]
    }
   ],
   "source": [
    "def Factorial1(number):\n",
    "    if number==0 or number==1:\n",
    "        return 1\n",
    "    else:\n",
    "        return number*Factorial(number-1)\n",
    "number=5\n",
    "summation=0\n",
    "for i in range(0,number+1):\n",
    "    summation+=Factorial1(i)\n",
    "print(number)\n",
    "answer=Factorial1(number)\n",
    "print(answer)\n",
    "print(summation)\n"
   ]
  },
  {
   "cell_type": "markdown",
   "metadata": {},
   "source": [
    "Task 4 Print elements of an array in a reverse order"
   ]
  },
  {
   "cell_type": "code",
   "execution_count": 171,
   "metadata": {},
   "outputs": [
    {
     "name": "stdout",
     "output_type": "stream",
     "text": [
      "5\n",
      "4\n",
      "3\n",
      "2\n",
      "1\n"
     ]
    }
   ],
   "source": [
    "z=[1,2,3,4,5]\n",
    "length=len(z)\n",
    "for i in range(length-1,-1,-1):\n",
    "    print(z[i])"
   ]
  },
  {
   "cell_type": "markdown",
   "metadata": {},
   "source": [
    "Task 5 print the largest element of an array"
   ]
  },
  {
   "cell_type": "markdown",
   "metadata": {},
   "source": [
    "using Built in function"
   ]
  },
  {
   "cell_type": "code",
   "execution_count": 172,
   "metadata": {},
   "outputs": [
    {
     "name": "stdout",
     "output_type": "stream",
     "text": [
      "5\n"
     ]
    }
   ],
   "source": [
    "z=[1,2,3,4,5]\n",
    "print(max(z))"
   ]
  },
  {
   "cell_type": "markdown",
   "metadata": {},
   "source": [
    "using loops"
   ]
  },
  {
   "cell_type": "code",
   "execution_count": 174,
   "metadata": {},
   "outputs": [
    {
     "name": "stdout",
     "output_type": "stream",
     "text": [
      "5\n"
     ]
    }
   ],
   "source": [
    "z=[1,2,3,4,5]\n",
    "maxi=-1\n",
    "for i in range(0,len(z)):\n",
    "    if maxi<z[i]:\n",
    "        maxi=z[i]\n",
    "print(maxi)"
   ]
  },
  {
   "cell_type": "markdown",
   "metadata": {},
   "source": [
    "Task 6 sort the elements of an array in an ascending order"
   ]
  },
  {
   "cell_type": "markdown",
   "metadata": {},
   "source": [
    "Using Built in Function"
   ]
  },
  {
   "cell_type": "code",
   "execution_count": 177,
   "metadata": {},
   "outputs": [
    {
     "data": {
      "text/plain": [
       "[1, 2, 4, 5, 6, 7, 7, 9, 10]"
      ]
     },
     "execution_count": 177,
     "metadata": {},
     "output_type": "execute_result"
    }
   ],
   "source": [
    "z=[9,6,5,7,4,2,10,1,7]\n",
    "sorted(z)"
   ]
  },
  {
   "cell_type": "markdown",
   "metadata": {},
   "source": [
    "Using loops"
   ]
  },
  {
   "cell_type": "code",
   "execution_count": 179,
   "metadata": {},
   "outputs": [
    {
     "name": "stdout",
     "output_type": "stream",
     "text": [
      "[9, 6, 7, 5, 4, 2, 10, 1, 7]\n"
     ]
    }
   ],
   "source": [
    "z=[9,6,5,7,4,2,10,1,7]\n",
    "temp=0\n",
    "for i in range(0,5):\n",
    "    if(z[i]<z[i+1]):\n",
    "        temp=z[i+1]\n",
    "        z[i+1]=z[i]\n",
    "        z[i]=temp\n",
    "        continue\n",
    "print(z) #cant solve it (Algorithm is needed)"
   ]
  },
  {
   "cell_type": "markdown",
   "metadata": {},
   "source": [
    "Task 7 program to remove punctuation from String"
   ]
  },
  {
   "cell_type": "code",
   "execution_count": 185,
   "metadata": {},
   "outputs": [
    {
     "name": "stdout",
     "output_type": "stream",
     "text": [
      "HelloIm so glad to see you again\n"
     ]
    }
   ],
   "source": [
    "def remove_punctuation(input_string):\n",
    "    punctuations = '''!()-[]{};:'\"\\,<>./?@#$%^&*_~'''\n",
    "    no_punct = \"\"\n",
    "    for char in input_string:\n",
    "        if char not in punctuations:\n",
    "            no_punct += char\n",
    "    return no_punct\n",
    "\n",
    "my_str = \"Hello!!,I'm so glad to see you again.<\"\n",
    "cleaned_str = remove_punctuation(my_str)\n",
    "print(cleaned_str) \n"
   ]
  },
  {
   "cell_type": "markdown",
   "metadata": {},
   "source": [
    "Task 8 find the frequency of each element in the array"
   ]
  },
  {
   "cell_type": "code",
   "execution_count": 198,
   "metadata": {},
   "outputs": [
    {
     "name": "stdout",
     "output_type": "stream",
     "text": [
      "t\n",
      "1\n",
      "e\n",
      "1\n",
      "d\n",
      "1\n",
      "a\n",
      "2\n",
      "c\n",
      "3\n",
      "b\n",
      "1\n",
      "y\n",
      "1\n"
     ]
    }
   ],
   "source": [
    "listaya=['a','b','c','d','c','c','a','e','y','t']\n",
    "for i in set(listaya):\n",
    "    print(i)\n",
    "    print(listaya.count(i))"
   ]
  },
  {
   "cell_type": "markdown",
   "metadata": {},
   "source": [
    "READ AND WRITE TO TEXT FILES IN PYTHON"
   ]
  },
  {
   "cell_type": "markdown",
   "metadata": {},
   "source": [
    "1st opening file"
   ]
  },
  {
   "cell_type": "code",
   "execution_count": 20,
   "metadata": {},
   "outputs": [],
   "source": [
    "File_object=open(\"file.txt\",'r+')#read and write can't do without it existing"
   ]
  },
  {
   "cell_type": "code",
   "execution_count": 88,
   "metadata": {},
   "outputs": [
    {
     "data": {
      "text/plain": [
       "'\\n'"
      ]
     },
     "execution_count": 88,
     "metadata": {},
     "output_type": "execute_result"
    }
   ],
   "source": [
    "File_object=open(\"file.txt\",'r+')#read and write can't do without it existing\n",
    "File_object.readlines()[0]#line 0\n",
    "#File_object.readlines()[1]#line 1"
   ]
  },
  {
   "cell_type": "code",
   "execution_count": null,
   "metadata": {},
   "outputs": [],
   "source": [
    "File_object=open(\"file.txt\",'w+')#write and read can do without it existing"
   ]
  },
  {
   "cell_type": "markdown",
   "metadata": {},
   "source": [
    "after opening files you should close it"
   ]
  },
  {
   "cell_type": "code",
   "execution_count": 46,
   "metadata": {},
   "outputs": [
    {
     "data": {
      "text/plain": [
       "<function TextIOWrapper.close()>"
      ]
     },
     "execution_count": 46,
     "metadata": {},
     "output_type": "execute_result"
    }
   ],
   "source": [
    "File_object.close()"
   ]
  },
  {
   "cell_type": "markdown",
   "metadata": {},
   "source": [
    "in order not to override on the file we should append instead of read"
   ]
  },
  {
   "cell_type": "code",
   "execution_count": 75,
   "metadata": {},
   "outputs": [],
   "source": [
    "File_object=open(\"file2.txt\",'a+')#append and read can do without it existing"
   ]
  },
  {
   "cell_type": "markdown",
   "metadata": {},
   "source": [
    "then write on the file"
   ]
  },
  {
   "cell_type": "code",
   "execution_count": 76,
   "metadata": {},
   "outputs": [
    {
     "data": {
      "text/plain": [
       "14"
      ]
     },
     "execution_count": 76,
     "metadata": {},
     "output_type": "execute_result"
    }
   ],
   "source": [
    "File_object.write(\"\\n elmeshatshat\")"
   ]
  },
  {
   "cell_type": "markdown",
   "metadata": {},
   "source": [
    "then close it again"
   ]
  },
  {
   "cell_type": "code",
   "execution_count": 83,
   "metadata": {},
   "outputs": [],
   "source": [
    "File_object.close()"
   ]
  },
  {
   "cell_type": "markdown",
   "metadata": {},
   "source": [
    "There is a way we can open file without worrying about closing the file \n",
    "Using with open"
   ]
  },
  {
   "cell_type": "code",
   "execution_count": 84,
   "metadata": {},
   "outputs": [],
   "source": [
    "with open(\"file2.txt\",'a+') as File_object:\n",
    "    File_object.write(\"\\n elmetarsham\")"
   ]
  },
  {
   "cell_type": "markdown",
   "metadata": {},
   "source": [
    "Split Code Program"
   ]
  },
  {
   "cell_type": "code",
   "execution_count": 81,
   "metadata": {},
   "outputs": [
    {
     "name": "stdout",
     "output_type": "stream",
     "text": [
      "['al;sdasdwaselmeshatshat']\n",
      "['elmeshatshat']\n"
     ]
    }
   ],
   "source": [
    "with open(\"file2.txt\",\"r\") as file:\n",
    "    data=file.readlines()\n",
    "    for line in data:\n",
    "        word=line.split()\n",
    "        print(word)"
   ]
  },
  {
   "cell_type": "markdown",
   "metadata": {},
   "source": [
    "Copy contents of the file"
   ]
  },
  {
   "cell_type": "markdown",
   "metadata": {},
   "source": [
    "using with open"
   ]
  },
  {
   "cell_type": "code",
   "execution_count": 89,
   "metadata": {},
   "outputs": [],
   "source": [
    "with open(\"file.txt\",\"r\") as file1,open(\"file2.txt\",\"a\") as file2:\n",
    "    for i in file1:\n",
    "        file2.write(i)"
   ]
  },
  {
   "cell_type": "markdown",
   "metadata": {},
   "source": [
    "using open"
   ]
  },
  {
   "cell_type": "code",
   "execution_count": 90,
   "metadata": {},
   "outputs": [],
   "source": [
    "file1=open(\"file.txt\",\"r\")\n",
    "file2=open(\"file2.txt\",\"a\")\n",
    "for i in file1:\n",
    "    file2.write(i.upper())\n",
    "file1.close()\n",
    "file2.close()"
   ]
  },
  {
   "cell_type": "markdown",
   "metadata": {},
   "source": [
    "Copy odd lines of one file to other (isn't working ?????)"
   ]
  },
  {
   "cell_type": "code",
   "execution_count": 122,
   "metadata": {},
   "outputs": [],
   "source": [
    "newfile1=open(\"newfile1.txt\",\"w+\")\n",
    "newfile2=open(\"newfile2.txt\",\"a+\")\n",
    "newfile1.write(\"1 2 3 4 5 6 7 8 9 10\")\n",
    "newfile3=open(\"newfile1.txt\",\"r+\")\n",
    "cont=newfile3.readlines()\n",
    "for i in range(0,len(cont)):\n",
    "    if i%2!=0:\n",
    "        newfile2.write(cont[i])\n",
    "    else:\n",
    "        pass\n",
    "newfile1.close()\n",
    "newfile2.close()"
   ]
  },
  {
   "cell_type": "code",
   "execution_count": 114,
   "metadata": {},
   "outputs": [],
   "source": [
    "fn=open('newfile1.txt','r')\n",
    "# open other file in write mode\n",
    "fn1=open('newfile2.txt','w')\n",
    "# read the content of the file line by line\n",
    "cont = fn.readlines()\n",
    "type(cont)\n",
    "for i in range(0, len(cont)):\n",
    "    if(i%2!=0):\n",
    "        fn1.write(i)\n",
    "    else:\n",
    "        pass\n",
    "fn.close()\n",
    "fn1.close()"
   ]
  },
  {
   "cell_type": "markdown",
   "metadata": {},
   "source": [
    "count number of lines in a text file in python"
   ]
  },
  {
   "cell_type": "markdown",
   "metadata": {},
   "source": [
    "why it prints 9 when there are 10"
   ]
  },
  {
   "cell_type": "code",
   "execution_count": 2,
   "metadata": {},
   "outputs": [
    {
     "name": "stdout",
     "output_type": "stream",
     "text": [
      "['1', '2', '3', '4', '5', '6', '7', '8', '9', '10']\n",
      "9\n"
     ]
    }
   ],
   "source": [
    "counter=0\n",
    "count1=open(\"newfile1.txt\",\"r\")\n",
    "content=count1.read()\n",
    "idk=content.split()\n",
    "print(idk)\n",
    "for i in range(len(idk)):\n",
    "    if i:\n",
    "        counter+=1\n",
    "print(counter)    "
   ]
  },
  {
   "cell_type": "markdown",
   "metadata": {},
   "source": [
    "Exercise on Reading and Writing files"
   ]
  },
  {
   "cell_type": "markdown",
   "metadata": {},
   "source": [
    "Task1 Get number of characters, words, spaces and lines in a file"
   ]
  },
  {
   "cell_type": "code",
   "execution_count": 145,
   "metadata": {},
   "outputs": [
    {
     "name": "stdout",
     "output_type": "stream",
     "text": [
      "number= 0\n",
      "charachters= 51\n",
      "words= 4\n",
      "spaces 5\n"
     ]
    }
   ],
   "source": [
    "number=0\n",
    "characters=0\n",
    "words=0\n",
    "spaces=0\n",
    "file=open(\"file.txt\",\"r\")\n",
    "read=file.read()\n",
    "for char in read:\n",
    "    if char.isdigit():#how to convert a number in a txt into int\n",
    "        number+=1\n",
    "    elif char.isalpha():\n",
    "        characters+=1\n",
    "    elif char.isspace():\n",
    "        spaces+=1\n",
    "words=len(read.split())\n",
    "print(\"number=\",number)\n",
    "print(\"charachters=\",characters)    \n",
    "print(\"words=\",words)\n",
    "print(\"spaces\",spaces)\n",
    "file.close()\n"
   ]
  },
  {
   "cell_type": "markdown",
   "metadata": {},
   "source": [
    "Task 2 Read lines from this file and split line on last delimiter in \n",
    "Python and save it to another file\n",
    "can't solve"
   ]
  },
  {
   "cell_type": "code",
   "execution_count": 169,
   "metadata": {},
   "outputs": [],
   "source": [
    "with open(\"file.txt\",\"r\") as files,open(\"files.txt\",\"a\") as files2:\n",
    "    new=files.read()\n",
    "    for i in new.rsplit(',',1):\n",
    "        files2.write(i)"
   ]
  },
  {
   "cell_type": "markdown",
   "metadata": {},
   "source": [
    "explain me this code"
   ]
  },
  {
   "cell_type": "code",
   "execution_count": 172,
   "metadata": {},
   "outputs": [],
   "source": [
    "with open(\"file.txt\", \"r\") as input_file, open(\"addresses.txt\", \"w\") as output_file:\n",
    "    for line in input_file:\n",
    "        parts = line.rsplit(\":\", 1)\n",
    "        if len(parts) == 2:\n",
    "            address = parts[1].strip()  # Remove leading/trailing spaces\n",
    "            output_file.write(address + \"\\n\")"
   ]
  }
 ],
 "metadata": {
  "kernelspec": {
   "display_name": "Python 3",
   "language": "python",
   "name": "python3"
  },
  "language_info": {
   "codemirror_mode": {
    "name": "ipython",
    "version": 3
   },
   "file_extension": ".py",
   "mimetype": "text/x-python",
   "name": "python",
   "nbconvert_exporter": "python",
   "pygments_lexer": "ipython3",
   "version": "3.11.9"
  }
 },
 "nbformat": 4,
 "nbformat_minor": 2
}
